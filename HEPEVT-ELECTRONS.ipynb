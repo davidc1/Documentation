{
 "cells": [
  {
   "cell_type": "code",
   "execution_count": null,
   "metadata": {},
   "outputs": [],
   "source": [
    "import sys\n",
    "import os"
   ]
  },
  {
   "cell_type": "code",
   "execution_count": null,
   "metadata": {},
   "outputs": [],
   "source": [
    "from datetime import datetime\n",
    "now = datetime.now()\n",
    "date_time = now.strftime(\"%m%d%Y\")\n",
    "print(\"date and time:\",date_time)"
   ]
  },
  {
   "cell_type": "code",
   "execution_count": null,
   "metadata": {},
   "outputs": [],
   "source": [
    "import uproot\n",
    "import matplotlib.pylab as pylab\n",
    "import numpy as np\n",
    "import math\n",
    "from sklearn.model_selection import train_test_split\n",
    "import pickle\n",
    "\n",
    "import awkward\n",
    "import pandas as pd"
   ]
  },
  {
   "cell_type": "code",
   "execution_count": null,
   "metadata": {},
   "outputs": [],
   "source": [
    "event_v = []\n",
    "elec_spectrum_v = []\n",
    "# simulate 20,000 events total\n",
    "for n in range(20000):\n",
    "    this_elec_v = []\n",
    "    # simulate 100 electrons per event\n",
    "    for n in range(100):\n",
    "        elec_energy_rand = np.random.uniform() * 3. # 0-3 MeV uniform\n",
    "        this_elec_v.append(elec_energy_rand)\n",
    "        elec_spectrum_v.append(elec_energy_rand)\n",
    "    event_v.append(this_elec_v)"
   ]
  },
  {
   "cell_type": "code",
   "execution_count": null,
   "metadata": {},
   "outputs": [],
   "source": [
    "import matplotlib.pyplot as plt"
   ]
  },
  {
   "cell_type": "code",
   "execution_count": null,
   "metadata": {},
   "outputs": [],
   "source": [
    "fig = plt.figure(figsize=(6,6))\n",
    "BINS=np.linspace(0,3.1,100)\n",
    "plt.hist(elec_spectrum_v,bins=BINS,histtype='step',lw=2)\n",
    "plt.show()"
   ]
  },
  {
   "cell_type": "code",
   "execution_count": null,
   "metadata": {},
   "outputs": [],
   "source": [
    "def random_dir():\n",
    "    # https://mathworld.wolfram.com/SpherePointPicking.html\n",
    "    # https://gist.github.com/andrewbolster/10274979\n",
    "    phi = 2 * np.pi * np.random.uniform()\n",
    "    cos = 2 * np.random.uniform() - 1\n",
    "    theta = np.arccos(cos)\n",
    "    x = math.sin(theta)*np.cos(phi)\n",
    "    y = math.sin(theta)*np.sin(phi)\n",
    "    z = math.cos(theta)\n",
    "    return x,y,z"
   ]
  },
  {
   "cell_type": "code",
   "execution_count": null,
   "metadata": {},
   "outputs": [],
   "source": [
    "def random_pos():\n",
    "    xrand = np.random.uniform() * 256. # x\n",
    "    yrand = np.random.uniform() * 232. - 116. # y\n",
    "    zrand = np.random.uniform() * 1030. # z\n",
    "    return xrand,yrand,zrand"
   ]
  },
  {
   "cell_type": "code",
   "execution_count": null,
   "metadata": {},
   "outputs": [],
   "source": [
    "#HEPTEXT = '1 22 0 0 0 0 6.50E-04 1.28E-04 -8.61E-04 1.09E-03 0.00E+00 1.28E+02 0.00E+00 5.00E+02 3.70E+03'\n",
    "HEPTEXT = '1 11 0 0 0 0 %.2E %.2E %.2E %.2E 0.00E+00 %.2E %.2E %.2E 3.70E+03 \\n'\n",
    "\n",
    "filectr = 0\n",
    "\n",
    "fout = None\n",
    "\n",
    "for i,event in enumerate(event_v):\n",
    "    \n",
    "    if (i%50 == 0):\n",
    "        if (fout != None):\n",
    "            fout.close()\n",
    "        fout = open('hepevt%03i.txt'%filectr,'w')\n",
    "        filectr += 1\n",
    "        \n",
    "    electron_v = event_v[i]\n",
    "    nelectron = len(electron_v)\n",
    "    fout.write('%i %i \\n'%(i,nelectron))\n",
    "    for electron in electron_v:\n",
    "        dx,dy,dz = random_dir()\n",
    "        x,y,z = random_pos()\n",
    "        eGeV = electron/1e3\n",
    "        \n",
    "        fout.write(HEPTEXT%(dx*eGeV,dy*eGeV,dz*eGeV,eGeV,x,y,z))"
   ]
  }
 ],
 "metadata": {
  "kernelspec": {
   "display_name": "Python 3 (ipykernel)",
   "language": "python",
   "name": "python3"
  },
  "language_info": {
   "codemirror_mode": {
    "name": "ipython",
    "version": 3
   },
   "file_extension": ".py",
   "mimetype": "text/x-python",
   "name": "python",
   "nbconvert_exporter": "python",
   "pygments_lexer": "ipython3",
   "version": "3.7.9"
  }
 },
 "nbformat": 4,
 "nbformat_minor": 2
}
